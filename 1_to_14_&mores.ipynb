{
 "cells": [
  {
   "cell_type": "markdown",
   "metadata": {},
   "source": [
    "Machine learning : is a filed of computer science that use statistical techniques to give computer system ability to \"learn\" with data without being explicitly programmed.       \n",
    "AI : The broad field that focuses on creating systems capable of performing tasks that normally require human intelligence (e.g., reasoning, learning, problem-solving).     \n",
    "ML : A subset of AI, where systems learn from data to improve performance on tasks without being explicitly programmed. It focuses on creating algorithms that can identify patterns in data.   \n",
    "DL : A subset of ML that uses neural networks with many layers (hence \"deep\") to model complex patterns. It's especially effective in tasks like image recognition and natural language processing.    "
   ]
  },
  {
   "cell_type": "markdown",
   "metadata": {},
   "source": [
    "Types of ML :   \n",
    "1. supervise \n",
    "2. unsupervised \n",
    "3. semisupervised \n",
    "4. reinforcement"
   ]
  },
  {
   "cell_type": "markdown",
   "metadata": {},
   "source": [
    "Challenges of ML :   \n",
    "Data collection, data geathering : from api, web scraping       \n",
    "Insufficient Data/Labelled data        \n",
    "Non Representative Data ::  Non-representative data refers to data that does not accurately reflect the real-world scenario causes ML models to be unreliable in real-world applications.     \n",
    "poor missing data : missing values       \n",
    "Irrelevant features         \n",
    "Overfitting         \n",
    "Underfitting             \n",
    "softwear integration                  \n",
    "offline learning / deployment              \n",
    "cost involved             "
   ]
  },
  {
   "cell_type": "markdown",
   "metadata": {},
   "source": [
    "Application of ml       \n",
    "retail              \n",
    "banking              \n",
    "transport ola                \n",
    "manufacturing tesla               \n",
    "Consumer Internet twitter                "
   ]
  },
  {
   "cell_type": "markdown",
   "metadata": {},
   "source": [
    "1 to 14\n",
    "\n",
    "Actually, machine learning is all about business now, companies are making a lot of money by using ML, like sentiment analysis...     \n",
    "Sentiment analysis : is a type of machine learning (ML) technique used to determine and analyze people's opinions, emotions, or attitudes toward a product, service, or topic by processing text data (such as reviews, social media posts, or customer feedback). It identifies whether the sentiment expressed in the text is positive, negative, or neutral, helping businesses understand customer perceptions and improve their strategies accordingly.      \n",
    "\n",
    "\"jisna change chaha hai had ke wo kr liya hai sarukh, abhitaf and mores\""
   ]
  }
 ],
 "metadata": {
  "language_info": {
   "name": "python"
  }
 },
 "nbformat": 4,
 "nbformat_minor": 2
}
