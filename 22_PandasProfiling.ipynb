{
 "cells": [
  {
   "cell_type": "markdown",
   "metadata": {},
   "source": [
    "tools they can automate the EDA work   \n",
    "\n",
    "Pandas Profiling :        \n",
    "PP is a Python \"library\" that generates an interactive and detailed report from a DataFrame, helping data analysts and data scientists quickly explore and understand their data.  \n",
    "The library creates a comprehensive overview of the dataset, including visualizations and descriptive statistics, which helps in identifying patterns, relationships, missing values, and potential issues such as outliers.    \n",
    "\n",
    "pip install pandas-profiling\n"
   ]
  },
  {
   "cell_type": "code",
   "execution_count": null,
   "metadata": {},
   "outputs": [],
   "source": [
    "import pandas as pd\n",
    "from pandas_profiling import ProfileReport"
   ]
  },
  {
   "cell_type": "markdown",
   "metadata": {},
   "source": [
    "Pondage profiling is not running due to latest version of python if you want to run pandas profiling then you will reinstall the python with older version"
   ]
  }
 ],
 "metadata": {
  "kernelspec": {
   "display_name": "Python 3",
   "language": "python",
   "name": "python3"
  },
  "language_info": {
   "codemirror_mode": {
    "name": "ipython",
    "version": 3
   },
   "file_extension": ".py",
   "mimetype": "text/x-python",
   "name": "python",
   "nbconvert_exporter": "python",
   "pygments_lexer": "ipython3",
   "version": "3.13.0"
  }
 },
 "nbformat": 4,
 "nbformat_minor": 2
}
