{
 "cells": [
  {
   "cell_type": "markdown",
   "metadata": {},
   "source": [
    "Variable transformation : \n",
    "Mathmatical transformation \n",
    "\n",
    "2 art cover \n",
    "Function Transformation in sklearn \n",
    "various transforms \n",
    "1. log transforms \n",
    "2. Reciprocal transforms \n",
    "3. power transforms \n",
    "\n",
    "next , powe transforms \n",
    "1. Box-Cox transforms \n",
    "2. yeo johnson transforms \n",
    "\n",
    "\n",
    "How to find if data is normal\n",
    "\n",
    "\n",
    "\n",
    "\n",
    "math. statics , normal distribution , skwd (), "
   ]
  },
  {
   "cell_type": "markdown",
   "metadata": {},
   "source": [
    "Log Transforms "
   ]
  },
  {
   "cell_type": "code",
   "execution_count": null,
   "metadata": {},
   "outputs": [],
   "source": []
  }
 ],
 "metadata": {
  "language_info": {
   "name": "python"
  }
 },
 "nbformat": 4,
 "nbformat_minor": 2
}
