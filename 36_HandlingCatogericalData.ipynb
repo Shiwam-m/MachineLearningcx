{
 "cells": [
  {
   "cell_type": "markdown",
   "metadata": {},
   "source": [
    "Handling Categorical Missing Data   \n",
    "There are so many technique to handle Categorical missing data :    \n",
    ". Most frequent value.   \n",
    ". Create new catogaries by the name of missing.  \n",
    ". Random value fill.   \n",
    "\n",
    "categorical data you can't have mean/median.   \n",
    "Categorical we can replace the data using 'mode' (most frequent value).   "
   ]
  }
 ],
 "metadata": {
  "kernelspec": {
   "display_name": "Python 3",
   "language": "python",
   "name": "python3"
  },
  "language_info": {
   "codemirror_mode": {
    "name": "ipython",
    "version": 3
   },
   "file_extension": ".py",
   "mimetype": "text/x-python",
   "name": "python",
   "nbconvert_exporter": "python",
   "pygments_lexer": "ipython3",
   "version": "3.13.0"
  }
 },
 "nbformat": 4,
 "nbformat_minor": 2
}
