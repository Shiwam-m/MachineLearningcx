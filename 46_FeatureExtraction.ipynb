{
 "cells": [
  {
   "cell_type": "markdown",
   "metadata": {},
   "source": [
    "Freature Selection both are related to COD (curse of Dimensionality)    \n",
    "\n",
    "curse of Dimensionality\n",
    "Feature Extraction :      \n",
    "\n",
    "After studing the all ml algorith we studed the Featue selection. "
   ]
  },
  {
   "cell_type": "markdown",
   "metadata": {},
   "source": [
    "curse of Dimensionality\n"
   ]
  }
 ],
 "metadata": {
  "language_info": {
   "name": "python"
  }
 },
 "nbformat": 4,
 "nbformat_minor": 2
}
