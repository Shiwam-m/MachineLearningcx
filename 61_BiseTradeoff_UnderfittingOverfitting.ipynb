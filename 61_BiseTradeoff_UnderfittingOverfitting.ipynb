{
 "cells": [
  {
   "cell_type": "markdown",
   "metadata": {},
   "source": [
    "Bias-Variance Trade-off in Machine Learning\n",
    "The bias-variance trade-off is a fundamental concept in machine learning that helps explain the sources of errors in a model. It is the balance between two types of errors that affect the performance of a model: bias and variance. These two errors have an inverse relationship, meaning that as you reduce one, the other increases. The goal is to find the right balance between the two.\n",
    "\n"
   ]
  },
  {
   "cell_type": "code",
   "execution_count": null,
   "metadata": {},
   "outputs": [],
   "source": []
  },
  {
   "cell_type": "markdown",
   "metadata": {},
   "source": [
    "Bias-Variance Trade-off\n",
    "The bias-variance trade-off is the balance between two types of errors that affect the performance of a machine learning model:\n",
    "\n",
    "Bias: Error due to overly simplistic assumptions in the model. A high bias means the model doesn’t capture the complexity of the data, leading to underfitting.\n",
    "Variance: Error due to the model being too sensitive to small changes in the training data. High variance means the model fits the training data too well, capturing noise and leading to overfitting.\n",
    "In simple terms, as you make the model more complex:\n",
    "\n",
    "Bias decreases (better at fitting the data).\n",
    "Variance increases (more sensitive to noise).\n",
    "The goal is to find the right balance to avoid both underfitting (too simple) and overfitting (too complex)."
   ]
  },
  {
   "cell_type": "markdown",
   "metadata": {},
   "source": [
    "Overfitting and Underfitting\n",
    "Overfitting: The model is too complex and fits the training data very well, but performs poorly on new data because it learns the noise. It has high variance and low bias.\n",
    "Underfitting: The model is too simple and cannot capture important patterns in the data. It performs poorly on both training and new data, with high bias and low variance.\n",
    "Summary:\n",
    "Overfitting = Too complex model (high variance).\n",
    "Underfitting = Too simple model (high bias).\n",
    "The best model strikes a balance between both, with low bias and low variance.\n",
    "\n",
    "\n"
   ]
  },
  {
   "cell_type": "markdown",
   "metadata": {},
   "source": [
    "news. daily---- DLS \n",
    "kanpur \n",
    "pm intern \n",
    "seekhna khud se hai, everything create a plans, sab tumko he karna hai, koi aur jeewan bhar nhi..  \n",
    "excel, all in phone, drive and more, youtube, git and more all learn. \n",
    "Data science all things -> learn codieans. \n",
    "if bore new things learn all things.................................\n",
    "\n",
    "also compleate the SQL and all the commends and mores.\n",
    "maths final \n",
    "and all the algorithm . ...\n",
    "\n",
    "\n",
    "sitting plan... in room best like home \n",
    "\n",
    "\n",
    "\n",
    "Gorakhdham Express\n",
    "\n",
    "Bihar S kranti \n",
    "\n",
    "Vashali Express\n",
    "\n"
   ]
  },
  {
   "cell_type": "markdown",
   "metadata": {},
   "source": [
    "always learn new thing...\n",
    "take a idea and create a exciting projects . and work on then projects, always in new ideas, excel and more thing \n",
    "join a hackthon and more... \n",
    "\n"
   ]
  }
 ],
 "metadata": {
  "language_info": {
   "name": "python"
  }
 },
 "nbformat": 4,
 "nbformat_minor": 2
}
