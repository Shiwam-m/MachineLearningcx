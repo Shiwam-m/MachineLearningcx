{
 "cells": [
  {
   "cell_type": "markdown",
   "metadata": {},
   "source": [
    "create won multiple regression, take more hyperplane and draw the conclusion of that data, then more understande create a new file for that... "
   ]
  },
  {
   "cell_type": "markdown",
   "metadata": {},
   "source": [
    "\n",
    "\n",
    "mc me jalius khut khut ke bhari hai \n",
    "no abuse, no wrong sunna, bolna, na ab khut.. banna , na gawaro ke sath ghumna \n",
    "sucess and more things \n",
    "\n",
    "\n",
    "we don't use the OLS, because of inverse it take time v=complexity to much n3 that take lot of time \n",
    "so that we can use of gradient decent, approxmimation tacniqe, "
   ]
  }
 ],
 "metadata": {
  "language_info": {
   "name": "python"
  }
 },
 "nbformat": 4,
 "nbformat_minor": 2
}
