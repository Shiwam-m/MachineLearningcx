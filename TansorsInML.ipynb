{
 "cells": [
  {
   "cell_type": "markdown",
   "metadata": {},
   "source": [
    "In machine learning, a tensor is essentially the data structure that is used to represent and store information. It generalizes arrays or matrices, allowing for more complex structures to be easily handled, especially in deep learning.\n",
    "\n",
    "To break it down:\n",
    "\n",
    "Scalar (0D tensor): A single value or number, like 5 or 3.14.\n",
    "Vector (1D tensor): A one-dimensional array of numbers, like [1, 2, 3].\n",
    "Matrix (2D tensor): A two-dimensional array, like [[1, 2], [3, 4]].\n",
    "Higher-dimensional tensor: Tensors with more than two dimensions, like a 3D array or beyond. For example, a 3D tensor could represent a batch of color images, where each image is represented by a 2D matrix of pixel values (height x width), and the 3D tensor captures a set of images (height x width x color channels).\n",
    "Tensors are the primary way that data is handled and passed around in machine learning, especially in deep learning libraries like TensorFlow or PyTorch. They represent the input data, weights in a neural network, and other structures used in training or inference.\n",
    "\n",
    "For example, in an image classification task, the raw image data (pixels) might be stored as a 3D tensor (height x width x color channels), while the model parameters (weights) are typically stored as matrices or higher-dimensional tensors.\n",
    "\n",
    "In short, tensors provide a flexible and efficient way to represent data in multiple dimensions, which is crucial for handling the complex data involved in machine learning models."
   ]
  },
  {
   "cell_type": "markdown",
   "metadata": {},
   "source": [
    "oppercunity mile hai gawa mat delh me hai kma invest kr\n",
    "\n"
   ]
  }
 ],
 "metadata": {
  "language_info": {
   "name": "python"
  }
 },
 "nbformat": 4,
 "nbformat_minor": 2
}
