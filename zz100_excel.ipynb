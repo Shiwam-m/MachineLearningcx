{
 "cells": [
  {
   "cell_type": "markdown",
   "metadata": {},
   "source": [
    "Everything Knowledge khi na khi kam aa jayega, learn Excel "
   ]
  },
  {
   "cell_type": "markdown",
   "metadata": {},
   "source": [
    "Excel all formulas: in a few cells"
   ]
  },
  {
   "cell_type": "markdown",
   "metadata": {},
   "source": [
    "learn all the flask and create a project using the flask and take or give the time to flask learning. and all not learn in a day. \n",
    "also in english grammer and communications. "
   ]
  },
  {
   "cell_type": "code",
   "execution_count": null,
   "metadata": {},
   "outputs": [],
   "source": []
  },
  {
   "cell_type": "markdown",
   "metadata": {},
   "source": [
    "work -   todays.....\n",
    "\n",
    "cirtificate download.   ,,,,,,,,,,,,,\n",
    "resume \n",
    "post on linkdin .        \n",
    "pic . for linkdin. \n",
    "math. \n",
    "py \n",
    "\n",
    "\n",
    "25- git final. \n",
    "\n",
    "all libraries, \n",
    "prob, statics, \n",
    "LR, GD all ml \n",
    "DSA \n",
    "\n",
    "\n",
    "\n",
    "convert the summmery into simple form not in exejurated form \n",
    "inetrn apply... \n",
    "grammer communication in this week .... \n",
    "in leave time all su=tudy "
   ]
  },
  {
   "cell_type": "markdown",
   "metadata": {},
   "source": [
    "learn how to create a google form, simple "
   ]
  },
  {
   "cell_type": "code",
   "execution_count": 1,
   "metadata": {},
   "outputs": [
    {
     "ename": "SyntaxError",
     "evalue": "invalid character '’' (U+2019) (4012566637.py, line 1)",
     "output_type": "error",
     "traceback": [
      "\u001b[1;36m  Cell \u001b[1;32mIn[1], line 1\u001b[1;36m\u001b[0m\n\u001b[1;33m    Here’s a refined list of just the key calculus topics for data science:\u001b[0m\n\u001b[1;37m        ^\u001b[0m\n\u001b[1;31mSyntaxError\u001b[0m\u001b[1;31m:\u001b[0m invalid character '’' (U+2019)\n"
     ]
    }
   ],
   "source": [
    "Here’s a refined list of just the key calculus topics for data science:\n",
    "\n",
    "Differentiation:\n",
    "\n",
    "Partial Derivatives\n",
    "\n",
    "Gradients and Gradient Descent\n",
    "\n",
    "Integration:\n",
    "\n",
    "Definite Integrals (for probability and statistics)\n",
    "\n",
    "Expected Value and Variance\n",
    "\n",
    "Optimization:\n",
    "\n",
    "Optimization Problems\n",
    "\n",
    "Lagrange Multipliers\n",
    "\n",
    "Taylor Series Expansion\n",
    "\n",
    "Multivariable Calculus:\n",
    "\n",
    "Vector Calculus (gradient, divergence, curl)\n",
    "\n",
    "Jacobian and Hessian Matrices\n",
    "\n",
    "Chain Rule (used in backpropagation for neural networks)\n",
    "\n",
    "Probability and Calculus:\n",
    "\n",
    "Continuous Probability Distributions\n",
    "\n",
    "Bayesian Inference\n",
    "\n",
    "These topics form the foundation of many algorithms and techniques in data science and machine learning.\n",
    "\n",
    "\n",
    "\n"
   ]
  },
  {
   "cell_type": "code",
   "execution_count": null,
   "metadata": {},
   "outputs": [],
   "source": [
    "post grl sql \n",
    "admin 4 all learn they are touch all download and learn \n",
    "\n",
    "\n",
    "all thing wxplor, web and more all things "
   ]
  },
  {
   "cell_type": "code",
   "execution_count": null,
   "metadata": {},
   "outputs": [],
   "source": [
    "jo data base fetch final hai download karke oad czmpy=us x se and SQL bhi both pgadmin and that "
   ]
  },
  {
   "cell_type": "code",
   "execution_count": null,
   "metadata": {},
   "outputs": [],
   "source": [
    "post"
   ]
  }
 ],
 "metadata": {
  "kernelspec": {
   "display_name": "Python 3",
   "language": "python",
   "name": "python3"
  },
  "language_info": {
   "codemirror_mode": {
    "name": "ipython",
    "version": 3
   },
   "file_extension": ".py",
   "mimetype": "text/x-python",
   "name": "python",
   "nbconvert_exporter": "python",
   "pygments_lexer": "ipython3",
   "version": "3.13.0"
  }
 },
 "nbformat": 4,
 "nbformat_minor": 2
}
