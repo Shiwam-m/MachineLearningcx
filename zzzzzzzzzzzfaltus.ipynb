{
 "cells": [
  {
   "cell_type": "markdown",
   "metadata": {},
   "source": [
    "steamlit...\n",
    "plotly....\n",
    "sara revisopn all today and compleate LR tak\n",
    "\n",
    "math's pyar algo create \n",
    "\n",
    "kal intern apply all, study (6 am) fast..\n",
    "\n",
    "condition shi nhi hai pad fast \n",
    "\n",
    "\n",
    "dam hai to 3rd year me placement le ke dikha jaise pahle bota tha logo se ,,,  \n",
    "PCA 1 hous krish\n",
    "\n",
    "\n",
    "all thing khud se code and score bhi findout karn and more pc khud se har chij with new data set, and revision more\n",
    "----------------------------------------------------\n",
    "\n",
    "Data analysis :::::  clg,,,\n",
    "all library revision, \n",
    "plotly learn\n",
    "SQL\n",
    "create projrcts more and more :::\n",
    "(((((((revision))))))) \n",
    "fats revision daily...............\n",
    "\n",
    "ml fast learn,,,, daily, DSA, \n",
    "ml revision fast :::\n",
    "collage java learn \n",
    "grammer\n",
    "\n",
    "revision fast daily..............\n",
    "\n",
    "inter aply fast....\n",
    "\n",
    "\n",
    "\n",
    "after some algo of ml direct jump to the dl,,, \n",
    "udemy krishnayak videos and, ask pushkar and research \n"
   ]
  },
  {
   "cell_type": "markdown",
   "metadata": {},
   "source": [
    "na samaj aaye yek yek word likho aage jake pta chal jata hai chote se chote chije write..."
   ]
  },
  {
   "cell_type": "code",
   "execution_count": null,
   "metadata": {},
   "outputs": [],
   "source": [
    "i have skills : \n",
    "---------------------\n",
    "\n",
    "python \n",
    "python DSA \n",
    "numpy \n",
    "pandas \n",
    "matplotlib \n",
    "seaborn \n",
    "plotly  - learn \n",
    "Flask   -  project\n",
    "\n",
    "SQL - project \n",
    "DA - projects \n",
    "excel - \n",
    "power - BI \n",
    "\n",
    "JAVA \n",
    "HTML \n",
    "CSS\n",
    "JS \n",
    "\n",
    "---------------------\n",
    "Engineering \n",
    "communication \n",
    "Leadership \n",
    "computer science \n",
    "-\n",
    "check a specific need an then modify the resume and apply... \n",
    "-\n",
    "international\n",
    "\n"
   ]
  }
 ],
 "metadata": {
  "language_info": {
   "name": "python"
  }
 },
 "nbformat": 4,
 "nbformat_minor": 2
}
